{
 "cells": [
  {
   "cell_type": "code",
   "execution_count": 93,
   "id": "designed-basement",
   "metadata": {},
   "outputs": [],
   "source": [
    "import numpy as np\n",
    "import pandas as pd\n",
    "from sklearn.model_selection import train_test_split\n",
    "import matplotlib\n",
    "from matplotlib import pyplot\n",
    "from sklearn import metrics\n",
    "from sklearn.metrics import accuracy_score\n",
    "from sklearn.metrics import precision_score\n",
    "from sklearn.metrics import recall_score\n",
    "from sklearn.metrics import f1_score\n",
    "\n",
    "from sklearn.ensemble import GradientBoostingClassifier\n",
    "from sklearn.ensemble import RandomForestClassifier\n",
    "from sklearn import tree\n",
    "\n",
    "from sklearn import metrics\n",
    "\n",
    "import time"
   ]
  },
  {
   "cell_type": "code",
   "execution_count": 94,
   "id": "preceding-pocket",
   "metadata": {},
   "outputs": [],
   "source": [
    "df = pd.read_csv(\"dataframe.csv\", index_col=None, header=0)"
   ]
  },
  {
   "cell_type": "code",
   "execution_count": 95,
   "id": "organic-australia",
   "metadata": {},
   "outputs": [],
   "source": [
    "df = df.sample(frac=1).reset_index(drop=True)\n",
    "df.drop('Unnamed: 0', inplace=True, axis=1)"
   ]
  },
  {
   "cell_type": "code",
   "execution_count": 96,
   "id": "destroyed-martial",
   "metadata": {},
   "outputs": [],
   "source": [
    "#df = df[:10000]"
   ]
  },
  {
   "cell_type": "code",
   "execution_count": 97,
   "id": "authorized-meeting",
   "metadata": {},
   "outputs": [
    {
     "data": {
      "text/html": [
       "<div>\n",
       "<style scoped>\n",
       "    .dataframe tbody tr th:only-of-type {\n",
       "        vertical-align: middle;\n",
       "    }\n",
       "\n",
       "    .dataframe tbody tr th {\n",
       "        vertical-align: top;\n",
       "    }\n",
       "\n",
       "    .dataframe thead th {\n",
       "        text-align: right;\n",
       "    }\n",
       "</style>\n",
       "<table border=\"1\" class=\"dataframe\">\n",
       "  <thead>\n",
       "    <tr style=\"text-align: right;\">\n",
       "      <th></th>\n",
       "      <th>Temperature</th>\n",
       "      <th>Month</th>\n",
       "      <th>Resolved</th>\n",
       "      <th>Fatal</th>\n",
       "      <th>City_Mississauga</th>\n",
       "      <th>City_Newmarket</th>\n",
       "      <th>City_Oakville</th>\n",
       "      <th>City_Ottawa</th>\n",
       "      <th>City_Toronto</th>\n",
       "      <th>City_Whitby</th>\n",
       "      <th>...</th>\n",
       "      <th>Age Group_20s</th>\n",
       "      <th>Age Group_30s</th>\n",
       "      <th>Age Group_40s</th>\n",
       "      <th>Age Group_50s</th>\n",
       "      <th>Age Group_60s</th>\n",
       "      <th>Age Group_70s</th>\n",
       "      <th>Age Group_80s</th>\n",
       "      <th>Age Group_90+</th>\n",
       "      <th>Age Group_&lt;20</th>\n",
       "      <th>Age Group_UNKNOWN</th>\n",
       "    </tr>\n",
       "  </thead>\n",
       "  <tbody>\n",
       "    <tr>\n",
       "      <th>0</th>\n",
       "      <td>0.684579</td>\n",
       "      <td>9</td>\n",
       "      <td>1</td>\n",
       "      <td>0</td>\n",
       "      <td>1</td>\n",
       "      <td>0</td>\n",
       "      <td>0</td>\n",
       "      <td>0</td>\n",
       "      <td>0</td>\n",
       "      <td>0</td>\n",
       "      <td>...</td>\n",
       "      <td>0</td>\n",
       "      <td>1</td>\n",
       "      <td>0</td>\n",
       "      <td>0</td>\n",
       "      <td>0</td>\n",
       "      <td>0</td>\n",
       "      <td>0</td>\n",
       "      <td>0</td>\n",
       "      <td>0</td>\n",
       "      <td>0</td>\n",
       "    </tr>\n",
       "    <tr>\n",
       "      <th>1</th>\n",
       "      <td>0.280374</td>\n",
       "      <td>12</td>\n",
       "      <td>1</td>\n",
       "      <td>0</td>\n",
       "      <td>0</td>\n",
       "      <td>0</td>\n",
       "      <td>0</td>\n",
       "      <td>0</td>\n",
       "      <td>1</td>\n",
       "      <td>0</td>\n",
       "      <td>...</td>\n",
       "      <td>0</td>\n",
       "      <td>1</td>\n",
       "      <td>0</td>\n",
       "      <td>0</td>\n",
       "      <td>0</td>\n",
       "      <td>0</td>\n",
       "      <td>0</td>\n",
       "      <td>0</td>\n",
       "      <td>0</td>\n",
       "      <td>0</td>\n",
       "    </tr>\n",
       "    <tr>\n",
       "      <th>2</th>\n",
       "      <td>0.649533</td>\n",
       "      <td>10</td>\n",
       "      <td>1</td>\n",
       "      <td>0</td>\n",
       "      <td>0</td>\n",
       "      <td>0</td>\n",
       "      <td>1</td>\n",
       "      <td>0</td>\n",
       "      <td>0</td>\n",
       "      <td>0</td>\n",
       "      <td>...</td>\n",
       "      <td>0</td>\n",
       "      <td>1</td>\n",
       "      <td>0</td>\n",
       "      <td>0</td>\n",
       "      <td>0</td>\n",
       "      <td>0</td>\n",
       "      <td>0</td>\n",
       "      <td>0</td>\n",
       "      <td>0</td>\n",
       "      <td>0</td>\n",
       "    </tr>\n",
       "    <tr>\n",
       "      <th>3</th>\n",
       "      <td>0.535047</td>\n",
       "      <td>12</td>\n",
       "      <td>1</td>\n",
       "      <td>0</td>\n",
       "      <td>0</td>\n",
       "      <td>0</td>\n",
       "      <td>0</td>\n",
       "      <td>0</td>\n",
       "      <td>1</td>\n",
       "      <td>0</td>\n",
       "      <td>...</td>\n",
       "      <td>0</td>\n",
       "      <td>0</td>\n",
       "      <td>0</td>\n",
       "      <td>0</td>\n",
       "      <td>1</td>\n",
       "      <td>0</td>\n",
       "      <td>0</td>\n",
       "      <td>0</td>\n",
       "      <td>0</td>\n",
       "      <td>0</td>\n",
       "    </tr>\n",
       "    <tr>\n",
       "      <th>4</th>\n",
       "      <td>0.313084</td>\n",
       "      <td>12</td>\n",
       "      <td>1</td>\n",
       "      <td>0</td>\n",
       "      <td>0</td>\n",
       "      <td>1</td>\n",
       "      <td>0</td>\n",
       "      <td>0</td>\n",
       "      <td>0</td>\n",
       "      <td>0</td>\n",
       "      <td>...</td>\n",
       "      <td>0</td>\n",
       "      <td>0</td>\n",
       "      <td>0</td>\n",
       "      <td>0</td>\n",
       "      <td>0</td>\n",
       "      <td>0</td>\n",
       "      <td>0</td>\n",
       "      <td>0</td>\n",
       "      <td>1</td>\n",
       "      <td>0</td>\n",
       "    </tr>\n",
       "  </tbody>\n",
       "</table>\n",
       "<p>5 rows × 22 columns</p>\n",
       "</div>"
      ],
      "text/plain": [
       "   Temperature  Month  Resolved  Fatal  \\\n",
       "0     0.684579      9         1      0   \n",
       "1     0.280374     12         1      0   \n",
       "2     0.649533     10         1      0   \n",
       "3     0.535047     12         1      0   \n",
       "4     0.313084     12         1      0   \n",
       "\n",
       "   City_Mississauga                                         \\\n",
       "0                                                  1         \n",
       "1                                                  0         \n",
       "2                                                  0         \n",
       "3                                                  0         \n",
       "4                                                  0         \n",
       "\n",
       "   City_Newmarket                                           \\\n",
       "0                                                  0         \n",
       "1                                                  0         \n",
       "2                                                  0         \n",
       "3                                                  0         \n",
       "4                                                  1         \n",
       "\n",
       "   City_Oakville                                            \\\n",
       "0                                                  0         \n",
       "1                                                  0         \n",
       "2                                                  1         \n",
       "3                                                  0         \n",
       "4                                                  0         \n",
       "\n",
       "   City_Ottawa                                              \\\n",
       "0                                                  0         \n",
       "1                                                  0         \n",
       "2                                                  0         \n",
       "3                                                  0         \n",
       "4                                                  0         \n",
       "\n",
       "   City_Toronto                                             \\\n",
       "0                                                  0         \n",
       "1                                                  1         \n",
       "2                                                  0         \n",
       "3                                                  1         \n",
       "4                                                  0         \n",
       "\n",
       "   City_Whitby                                              ...  \\\n",
       "0                                                  0        ...   \n",
       "1                                                  0        ...   \n",
       "2                                                  0        ...   \n",
       "3                                                  0        ...   \n",
       "4                                                  0        ...   \n",
       "\n",
       "   Age Group_20s  Age Group_30s  Age Group_40s  Age Group_50s  Age Group_60s  \\\n",
       "0              0              1              0              0              0   \n",
       "1              0              1              0              0              0   \n",
       "2              0              1              0              0              0   \n",
       "3              0              0              0              0              1   \n",
       "4              0              0              0              0              0   \n",
       "\n",
       "   Age Group_70s  Age Group_80s  Age Group_90+  Age Group_<20  \\\n",
       "0              0              0              0              0   \n",
       "1              0              0              0              0   \n",
       "2              0              0              0              0   \n",
       "3              0              0              0              0   \n",
       "4              0              0              0              1   \n",
       "\n",
       "   Age Group_UNKNOWN  \n",
       "0                  0  \n",
       "1                  0  \n",
       "2                  0  \n",
       "3                  0  \n",
       "4                  0  \n",
       "\n",
       "[5 rows x 22 columns]"
      ]
     },
     "execution_count": 97,
     "metadata": {},
     "output_type": "execute_result"
    }
   ],
   "source": [
    "df.head()"
   ]
  },
  {
   "cell_type": "code",
   "execution_count": 76,
   "id": "burning-winning",
   "metadata": {},
   "outputs": [],
   "source": [
    "X = df\n",
    "y = X.pop(\"Month\").values"
   ]
  },
  {
   "cell_type": "code",
   "execution_count": 77,
   "id": "deadly-brass",
   "metadata": {},
   "outputs": [],
   "source": [
    "X_train, X_test, y_train, y_test = train_test_split(X, y, random_state=0, test_size=0.3)"
   ]
  },
  {
   "cell_type": "code",
   "execution_count": 98,
   "id": "multiple-belize",
   "metadata": {},
   "outputs": [
    {
     "name": "stdout",
     "output_type": "stream",
     "text": [
      "Time taken to construct model: 21.95198071503546 seconds\n",
      "Gradient Boost Accuracy: 0.8363081617086193\n",
      "Gradient Boost Precision: 0.8385215982173284\n",
      "Gradient Boost Recall: 0.8363081617086193\n",
      "Gradient Boost F-Score: 0.8345171261639771\n"
     ]
    }
   ],
   "source": [
    "#gradient boost \n",
    "timer_start = time.perf_counter()\n",
    "gb = GradientBoostingClassifier()\n",
    "gb.fit(X_train, y_train)\n",
    "timer_end = time.perf_counter()\n",
    "total_time = timer_end - timer_start\n",
    "y_predict_gb = gb.predict(X_test)\n",
    "\n",
    "print(\"Time taken to construct model: \" + str(total_time) + \" seconds\")\n",
    "print(\"Gradient Boost Accuracy: \" + str(accuracy_score(y_test, y_predict_gb)))\n",
    "print(\"Gradient Boost Precision: \" + str(precision_score(y_test, y_predict_gb, average='weighted')))\n",
    "print(\"Gradient Boost Recall: \" + str(recall_score(y_test, y_predict_gb, average='weighted')))\n",
    "print(\"Gradient Boost F-Score: \" + str(f1_score(y_test, y_predict_gb, average='weighted')))"
   ]
  },
  {
   "cell_type": "code",
   "execution_count": 102,
   "id": "controlling-cloud",
   "metadata": {},
   "outputs": [
    {
     "name": "stdout",
     "output_type": "stream",
     "text": [
      "Feature Importance:\n",
      "0 Temperature weight: 0.909549772057383\n",
      "3 City_Mississauga                                        weight: 0.017203406432056517\n",
      "4 City_Newmarket                                          weight: 0.012723600760728798\n",
      "6 City_Ottawa                                             weight: 0.02131705040755422\n",
      "7 City_Toronto                                            weight: 0.028949055831377548\n"
     ]
    },
    {
     "data": {
      "image/png": "[encoded data removed]",
      "text/plain": [
       "<Figure size 432x288 with 1 Axes>"
      ]
     },
     "metadata": {
      "needs_background": "light"
     },
     "output_type": "display_data"
    }
   ],
   "source": [
    "weights = (gb.feature_importances_)\n",
    "print(\"Feature Importance:\")\n",
    "index = 0\n",
    "for i in X:\n",
    "    if weights[index]>=0.01:\n",
    "        print(str(index) + \" \" + i + \" weight: \" +  str(weights[index]))\n",
    "    index += 1\n",
    "    \n",
    "# plot\n",
    "pyplot.bar(range(len(gb.feature_importances_)), gb.feature_importances_)\n",
    "pyplot.show()"
   ]
  },
  {
   "cell_type": "code",
   "execution_count": 99,
   "id": "abstract-separation",
   "metadata": {},
   "outputs": [
    {
     "name": "stdout",
     "output_type": "stream",
     "text": [
      "Time taken to construct model: 0.4420440249959938 seconds\n",
      "Random Forest Accuracy: 0.9018459191456903\n",
      "Random Forest Precision: 0.9038207360037677\n",
      "Random Forest Recall: 0.9018459191456903\n",
      "Random Forest F-Score: 0.9021300848191429\n"
     ]
    }
   ],
   "source": [
    "#Random Forest\n",
    "timer_start = time.perf_counter()\n",
    "rf = RandomForestClassifier(n_estimators=10)\n",
    "rf.fit(X_train, y_train)\n",
    "timer_end = time.perf_counter()\n",
    "total_time = timer_end - timer_start\n",
    "rf_predict = rf.predict(X_test)\n",
    "\n",
    "print(\"Time taken to construct model: \" + str(total_time) + \" seconds\")\n",
    "print(\"Random Forest Accuracy: \" + str(accuracy_score(y_test, rf_predict)))\n",
    "print(\"Random Forest Precision: \" + str(precision_score(y_test, rf_predict, average='weighted')))\n",
    "print(\"Random Forest Recall: \" + str(recall_score(y_test, rf_predict, average='weighted')))\n",
    "print(\"Random Forest F-Score: \" + str(f1_score(y_test, rf_predict, average='weighted')))"
   ]
  },
  {
   "cell_type": "code",
   "execution_count": 101,
   "id": "continuous-assistant",
   "metadata": {},
   "outputs": [
    {
     "name": "stdout",
     "output_type": "stream",
     "text": [
      "Feature Importance:\n",
      "0 Temperature weight: 0.9633482179246139\n"
     ]
    },
    {
     "data": {
      "image/png": "[encoded data removed]",
      "text/plain": [
       "<Figure size 432x288 with 1 Axes>"
      ]
     },
     "metadata": {
      "needs_background": "light"
     },
     "output_type": "display_data"
    }
   ],
   "source": [
    "weights = (rf.feature_importances_)\n",
    "index = 0\n",
    "print(\"Feature Importance:\")\n",
    "for i in X:\n",
    "    if weights[index]>=0.01:\n",
    "        print(str(index) + \" \" + i + \" weight: \" +  str(weights[index]))\n",
    "    index += 1\n",
    "    \n",
    "# plot\n",
    "pyplot.bar(range(len(gb.feature_importances_)), gb.feature_importances_)\n",
    "pyplot.show()"
   ]
  },
  {
   "cell_type": "code",
   "execution_count": 100,
   "id": "closing-essence",
   "metadata": {},
   "outputs": [
    {
     "name": "stdout",
     "output_type": "stream",
     "text": [
      "Time taken to construct model: 0.14775780297350138 seconds\n",
      "Decision Tree Accuracy: 0.912372234935164\n",
      "Decision Tree Precision: 0.9149541214458579\n",
      "Decision Tree Recall: 0.912372234935164\n",
      "Decision Tree F-Score: 0.9128640153745325\n"
     ]
    }
   ],
   "source": [
    "#Decision Tree\n",
    "timer_start = time.perf_counter()\n",
    "dt = tree.DecisionTreeClassifier()\n",
    "dt.fit(X_train, y_train)\n",
    "timer_end = time.perf_counter()\n",
    "total_time = timer_end - timer_start\n",
    "dt_predict = dt.predict(X_test)\n",
    "\n",
    "print(\"Time taken to construct model: \" + str(total_time) + \" seconds\")\n",
    "print(\"Decision Tree Accuracy: \" + str(accuracy_score(y_test, dt_predict)))\n",
    "print(\"Decision Tree Precision: \" + str(precision_score(y_test, dt_predict, average='weighted')))\n",
    "print(\"Decision Tree Recall: \" + str(recall_score(y_test, dt_predict, average='weighted')))\n",
    "print(\"Decision Tree F-Score: \" + str(f1_score(y_test, dt_predict, average='weighted')))"
   ]
  },
  {
   "cell_type": "code",
   "execution_count": 103,
   "id": "occupational-healing",
   "metadata": {},
   "outputs": [
    {
     "name": "stdout",
     "output_type": "stream",
     "text": [
      "Feature Importance:\n",
      "0 Temperature weight: 0.8138769050822869\n",
      "3 City_Mississauga                                        weight: 0.03403276387376705\n",
      "4 City_Newmarket                                          weight: 0.023535387051680453\n",
      "5 City_Oakville                                           weight: 0.01703630047814992\n",
      "6 City_Ottawa                                             weight: 0.019982966063275664\n",
      "7 City_Toronto                                            weight: 0.05764685372027318\n",
      "8 City_Whitby                                             weight: 0.020750887725482114\n"
     ]
    },
    {
     "data": {
      "image/png": "[encoded data removed]",
      "text/plain": [
       "<Figure size 432x288 with 1 Axes>"
      ]
     },
     "metadata": {
      "needs_background": "light"
     },
     "output_type": "display_data"
    }
   ],
   "source": [
    "weights = (dt.feature_importances_)\n",
    "print(\"Feature Importance:\")\n",
    "index = 0\n",
    "for i in X:\n",
    "    if weights[index]>=0.01:\n",
    "        print(str(index) + \" \" + i + \" weight: \" +  str(weights[index]))\n",
    "    index += 1\n",
    "    \n",
    "# plot\n",
    "pyplot.bar(range(len(gb.feature_importances_)), gb.feature_importances_)\n",
    "pyplot.show()"
   ]
  },
  {
   "cell_type": "code",
   "execution_count": null,
   "id": "first-maldives",
   "metadata": {},
   "outputs": [],
   "source": []
  }
 ],
 "metadata": {
  "kernelspec": {
   "display_name": "Python 3",
   "language": "python",
   "name": "python3"
  },
  "language_info": {
   "codemirror_mode": {
    "name": "ipython",
    "version": 3
   },
   "file_extension": ".py",
   "mimetype": "text/x-python",
   "name": "python",
   "nbconvert_exporter": "python",
   "pygments_lexer": "ipython3",
   "version": "3.9.1"
  }
 },
 "nbformat": 4,
 "nbformat_minor": 5
}
